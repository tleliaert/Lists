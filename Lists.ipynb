{
 "cells": [
  {
   "cell_type": "code",
   "execution_count": null,
   "id": "8851f02d-8ff5-41c7-b15e-da416d26791b",
   "metadata": {},
   "outputs": [],
   "source": [
    "things = [\"mozzarella\", \"cinderella\", \"salmonella\"]\n",
    "print(\"Initial list:\", things)\n",
    "\n",
    "things[1] = things[1].capitalize()\n",
    "print(\"After capitalizing 'cinderella':\", things)\n",
    "\n",
    "things[0] = things[0].upper()\n",
    "print(\"After making 'mozzarella' uppercase:\", things)\n",
    "\n",
    "del things[2]\n",
    "print(\"After removing 'salmonella':\", things)\n",
    "\n",
    "def good():\n",
    "    return ['Harry', 'Ron', 'Hermione']\n",
    "\n",
    "print(\"Output of good():\", good())\n",
    "\n",
    "def get_odds():\n",
    "    for number in range(10):\n",
    "        if number % 2 != 0:\n",
    "            yield number\n",
    "\n",
    "odds = get_odds()\n",
    "for index, odd in enumerate(odds, start=1):\n",
    "    if index == 3:\n",
    "        print(\"Third odd number:\", odd)\n",
    "        break\n"
   ]
  }
 ],
 "metadata": {
  "kernelspec": {
   "display_name": "Python 3 (ipykernel)",
   "language": "python",
   "name": "python3"
  },
  "language_info": {
   "codemirror_mode": {
    "name": "ipython",
    "version": 3
   },
   "file_extension": ".py",
   "mimetype": "text/x-python",
   "name": "python",
   "nbconvert_exporter": "python",
   "pygments_lexer": "ipython3",
   "version": "3.11.7"
  }
 },
 "nbformat": 4,
 "nbformat_minor": 5
}
